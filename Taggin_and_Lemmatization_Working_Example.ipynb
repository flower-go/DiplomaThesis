{
  "nbformat": 4,
  "nbformat_minor": 0,
  "metadata": {
    "colab": {
      "name": "Taggin and Lemmatization Working Example",
      "provenance": [],
      "collapsed_sections": [],
      "authorship_tag": "ABX9TyPLeO6ugSYzEcrrHbcj6hCM",
      "include_colab_link": true
    },
    "kernelspec": {
      "name": "python3",
      "display_name": "Python 3"
    },
    "language_info": {
      "name": "python"
    },
    "widgets": {
      "application/vnd.jupyter.widget-state+json": {
        "3300439a28e34b2e8ba6cd9786e2b7b0": {
          "model_module": "@jupyter-widgets/controls",
          "model_name": "HBoxModel",
          "state": {
            "_view_name": "HBoxView",
            "_dom_classes": [],
            "_model_name": "HBoxModel",
            "_view_module": "@jupyter-widgets/controls",
            "_model_module_version": "1.5.0",
            "_view_count": null,
            "_view_module_version": "1.5.0",
            "box_style": "",
            "layout": "IPY_MODEL_4aa310c93f8347e1b7d563d1aec97873",
            "_model_module": "@jupyter-widgets/controls",
            "children": [
              "IPY_MODEL_e463bcf6fffa457ea0c9f01775b11923",
              "IPY_MODEL_1538c8d411394847a35364101b24603e"
            ]
          }
        },
        "4aa310c93f8347e1b7d563d1aec97873": {
          "model_module": "@jupyter-widgets/base",
          "model_name": "LayoutModel",
          "state": {
            "_view_name": "LayoutView",
            "grid_template_rows": null,
            "right": null,
            "justify_content": null,
            "_view_module": "@jupyter-widgets/base",
            "overflow": null,
            "_model_module_version": "1.2.0",
            "_view_count": null,
            "flex_flow": null,
            "width": null,
            "min_width": null,
            "border": null,
            "align_items": null,
            "bottom": null,
            "_model_module": "@jupyter-widgets/base",
            "top": null,
            "grid_column": null,
            "overflow_y": null,
            "overflow_x": null,
            "grid_auto_flow": null,
            "grid_area": null,
            "grid_template_columns": null,
            "flex": null,
            "_model_name": "LayoutModel",
            "justify_items": null,
            "grid_row": null,
            "max_height": null,
            "align_content": null,
            "visibility": null,
            "align_self": null,
            "height": null,
            "min_height": null,
            "padding": null,
            "grid_auto_rows": null,
            "grid_gap": null,
            "max_width": null,
            "order": null,
            "_view_module_version": "1.2.0",
            "grid_template_areas": null,
            "object_position": null,
            "object_fit": null,
            "grid_auto_columns": null,
            "margin": null,
            "display": null,
            "left": null
          }
        },
        "e463bcf6fffa457ea0c9f01775b11923": {
          "model_module": "@jupyter-widgets/controls",
          "model_name": "FloatProgressModel",
          "state": {
            "_view_name": "ProgressView",
            "style": "IPY_MODEL_dd9e541df6034fbc9d8723924c65683f",
            "_dom_classes": [],
            "description": "Downloading: 100%",
            "_model_name": "FloatProgressModel",
            "bar_style": "success",
            "max": 667860748,
            "_view_module": "@jupyter-widgets/controls",
            "_model_module_version": "1.5.0",
            "value": 667860748,
            "_view_count": null,
            "_view_module_version": "1.5.0",
            "orientation": "horizontal",
            "min": 0,
            "description_tooltip": null,
            "_model_module": "@jupyter-widgets/controls",
            "layout": "IPY_MODEL_1ec923740bf04877bb6decae58cae1bf"
          }
        },
        "1538c8d411394847a35364101b24603e": {
          "model_module": "@jupyter-widgets/controls",
          "model_name": "HTMLModel",
          "state": {
            "_view_name": "HTMLView",
            "style": "IPY_MODEL_ee7ee701c1134be1ac93ef246cd99d12",
            "_dom_classes": [],
            "description": "",
            "_model_name": "HTMLModel",
            "placeholder": "​",
            "_view_module": "@jupyter-widgets/controls",
            "_model_module_version": "1.5.0",
            "value": " 668M/668M [00:20&lt;00:00, 33.1MB/s]",
            "_view_count": null,
            "_view_module_version": "1.5.0",
            "description_tooltip": null,
            "_model_module": "@jupyter-widgets/controls",
            "layout": "IPY_MODEL_a224bc0a108142c99268cf554459fdd3"
          }
        },
        "dd9e541df6034fbc9d8723924c65683f": {
          "model_module": "@jupyter-widgets/controls",
          "model_name": "ProgressStyleModel",
          "state": {
            "_view_name": "StyleView",
            "_model_name": "ProgressStyleModel",
            "description_width": "initial",
            "_view_module": "@jupyter-widgets/base",
            "_model_module_version": "1.5.0",
            "_view_count": null,
            "_view_module_version": "1.2.0",
            "bar_color": null,
            "_model_module": "@jupyter-widgets/controls"
          }
        },
        "1ec923740bf04877bb6decae58cae1bf": {
          "model_module": "@jupyter-widgets/base",
          "model_name": "LayoutModel",
          "state": {
            "_view_name": "LayoutView",
            "grid_template_rows": null,
            "right": null,
            "justify_content": null,
            "_view_module": "@jupyter-widgets/base",
            "overflow": null,
            "_model_module_version": "1.2.0",
            "_view_count": null,
            "flex_flow": null,
            "width": null,
            "min_width": null,
            "border": null,
            "align_items": null,
            "bottom": null,
            "_model_module": "@jupyter-widgets/base",
            "top": null,
            "grid_column": null,
            "overflow_y": null,
            "overflow_x": null,
            "grid_auto_flow": null,
            "grid_area": null,
            "grid_template_columns": null,
            "flex": null,
            "_model_name": "LayoutModel",
            "justify_items": null,
            "grid_row": null,
            "max_height": null,
            "align_content": null,
            "visibility": null,
            "align_self": null,
            "height": null,
            "min_height": null,
            "padding": null,
            "grid_auto_rows": null,
            "grid_gap": null,
            "max_width": null,
            "order": null,
            "_view_module_version": "1.2.0",
            "grid_template_areas": null,
            "object_position": null,
            "object_fit": null,
            "grid_auto_columns": null,
            "margin": null,
            "display": null,
            "left": null
          }
        },
        "ee7ee701c1134be1ac93ef246cd99d12": {
          "model_module": "@jupyter-widgets/controls",
          "model_name": "DescriptionStyleModel",
          "state": {
            "_view_name": "StyleView",
            "_model_name": "DescriptionStyleModel",
            "description_width": "",
            "_view_module": "@jupyter-widgets/base",
            "_model_module_version": "1.5.0",
            "_view_count": null,
            "_view_module_version": "1.2.0",
            "_model_module": "@jupyter-widgets/controls"
          }
        },
        "a224bc0a108142c99268cf554459fdd3": {
          "model_module": "@jupyter-widgets/base",
          "model_name": "LayoutModel",
          "state": {
            "_view_name": "LayoutView",
            "grid_template_rows": null,
            "right": null,
            "justify_content": null,
            "_view_module": "@jupyter-widgets/base",
            "overflow": null,
            "_model_module_version": "1.2.0",
            "_view_count": null,
            "flex_flow": null,
            "width": null,
            "min_width": null,
            "border": null,
            "align_items": null,
            "bottom": null,
            "_model_module": "@jupyter-widgets/base",
            "top": null,
            "grid_column": null,
            "overflow_y": null,
            "overflow_x": null,
            "grid_auto_flow": null,
            "grid_area": null,
            "grid_template_columns": null,
            "flex": null,
            "_model_name": "LayoutModel",
            "justify_items": null,
            "grid_row": null,
            "max_height": null,
            "align_content": null,
            "visibility": null,
            "align_self": null,
            "height": null,
            "min_height": null,
            "padding": null,
            "grid_auto_rows": null,
            "grid_gap": null,
            "max_width": null,
            "order": null,
            "_view_module_version": "1.2.0",
            "grid_template_areas": null,
            "object_position": null,
            "object_fit": null,
            "grid_auto_columns": null,
            "margin": null,
            "display": null,
            "left": null
          }
        }
      }
    }
  },
  "cells": [
    {
      "cell_type": "markdown",
      "metadata": {
        "id": "view-in-github",
        "colab_type": "text"
      },
      "source": [
        "<a href=\"https://colab.research.google.com/github/flower-go/DiplomaThesis/blob/master/Taggin_and_Lemmatization_Working_Example.ipynb\" target=\"_parent\"><img src=\"https://colab.research.google.com/assets/colab-badge.svg\" alt=\"Open In Colab\"/></a>"
      ]
    },
    {
      "cell_type": "markdown",
      "metadata": {
        "id": "L4hZQFhWKAAX"
      },
      "source": [
        "This is a Jupyter Notebook presenting the usage of pretrained tagging and lemmatization model presented as a part of my thesis. For running please run all cells in Helper code part (PLEASE RESTART RUNTIME after installing requirements). Then run the rest of cells. You can change the input in [this cell](https://colab.research.google.com/drive/14U0zNpnU9VUkvMH2GwzdcULV6Xp_qjhR#scrollTo=Ej_NzOSnNgk6&line=1&uniqifier=1). An output will be printed in the last cell. For more information, do not hesitate to contact me on: vysusilova.petra.m@gmail.com"
      ]
    },
    {
      "cell_type": "markdown",
      "metadata": {
        "id": "A15adFmDBEaH"
      },
      "source": [
        "# Helper code\n"
      ]
    },
    {
      "cell_type": "code",
      "metadata": {
        "id": "4s8Ke81RP9Vv",
        "colab": {
          "base_uri": "https://localhost:8080/"
        },
        "outputId": "ad22eb58-9ec5-459e-c86c-9a068d910f50"
      },
      "source": [
        "#clone repo\n",
        "!git clone https://github.com/flower-go/DiplomaThesis.git"
      ],
      "execution_count": null,
      "outputs": [
        {
          "output_type": "stream",
          "text": [
            "fatal: destination path 'DiplomaThesis' already exists and is not an empty directory.\n"
          ],
          "name": "stdout"
        }
      ]
    },
    {
      "cell_type": "code",
      "metadata": {
        "colab": {
          "base_uri": "https://localhost:8080/"
        },
        "id": "ZmNEcwiXX42-",
        "outputId": "485ceb56-f819-4dde-cd2a-cd1618d920b5"
      },
      "source": [
        "!pip install ufal.morphodita"
      ],
      "execution_count": null,
      "outputs": [
        {
          "output_type": "stream",
          "text": [
            "Requirement already satisfied: ufal.morphodita in /usr/local/lib/python3.7/dist-packages (1.10.1.1)\n"
          ],
          "name": "stdout"
        }
      ]
    },
    {
      "cell_type": "code",
      "metadata": {
        "colab": {
          "base_uri": "https://localhost:8080/",
          "height": 1000
        },
        "id": "E4O9tV0UBesv",
        "outputId": "525f4c8b-a6a4-41e7-9498-b874bd58f055"
      },
      "source": [
        "!pip install -r \"DiplomaThesis/requirements.txt\""
      ],
      "execution_count": null,
      "outputs": [
        {
          "output_type": "stream",
          "text": [
            "Collecting absl-py==0.9.0\n",
            "  Using cached absl_py-0.9.0-py3-none-any.whl\n",
            "Requirement already satisfied: astor==0.8.1 in /usr/local/lib/python3.7/dist-packages (from -r DiplomaThesis/requirements.txt (line 2)) (0.8.1)\n",
            "Requirement already satisfied: astunparse==1.6.3 in /usr/local/lib/python3.7/dist-packages (from -r DiplomaThesis/requirements.txt (line 3)) (1.6.3)\n",
            "Requirement already satisfied: attrs==20.2.0 in /usr/local/lib/python3.7/dist-packages (from -r DiplomaThesis/requirements.txt (line 4)) (20.2.0)\n",
            "Requirement already satisfied: boto3==1.12.24 in /usr/local/lib/python3.7/dist-packages (from -r DiplomaThesis/requirements.txt (line 5)) (1.12.24)\n",
            "Requirement already satisfied: botocore==1.15.24 in /usr/local/lib/python3.7/dist-packages (from -r DiplomaThesis/requirements.txt (line 6)) (1.15.24)\n",
            "Requirement already satisfied: cachetools==4.0.0 in /usr/local/lib/python3.7/dist-packages (from -r DiplomaThesis/requirements.txt (line 7)) (4.0.0)\n",
            "Requirement already satisfied: certifi==2019.11.28 in /usr/local/lib/python3.7/dist-packages (from -r DiplomaThesis/requirements.txt (line 8)) (2019.11.28)\n",
            "Requirement already satisfied: chardet==3.0.4 in /usr/local/lib/python3.7/dist-packages (from -r DiplomaThesis/requirements.txt (line 9)) (3.0.4)\n",
            "Requirement already satisfied: click==7.1.1 in /usr/local/lib/python3.7/dist-packages (from -r DiplomaThesis/requirements.txt (line 10)) (7.1.1)\n",
            "Requirement already satisfied: cycler==0.10.0 in /usr/local/lib/python3.7/dist-packages (from -r DiplomaThesis/requirements.txt (line 11)) (0.10.0)\n",
            "Requirement already satisfied: dill==0.3.2 in /usr/local/lib/python3.7/dist-packages (from -r DiplomaThesis/requirements.txt (line 12)) (0.3.2)\n",
            "Requirement already satisfied: dm-tree==0.1.5 in /usr/local/lib/python3.7/dist-packages (from -r DiplomaThesis/requirements.txt (line 13)) (0.1.5)\n",
            "Requirement already satisfied: docutils==0.15.2 in /usr/local/lib/python3.7/dist-packages (from -r DiplomaThesis/requirements.txt (line 14)) (0.15.2)\n",
            "Requirement already satisfied: filelock==3.0.12 in /usr/local/lib/python3.7/dist-packages (from -r DiplomaThesis/requirements.txt (line 15)) (3.0.12)\n",
            "Requirement already satisfied: future==0.18.2 in /usr/local/lib/python3.7/dist-packages (from -r DiplomaThesis/requirements.txt (line 16)) (0.18.2)\n",
            "Collecting gast==0.3.3\n",
            "  Using cached gast-0.3.3-py2.py3-none-any.whl (9.7 kB)\n",
            "Requirement already satisfied: google-auth==1.11.2 in /usr/local/lib/python3.7/dist-packages (from -r DiplomaThesis/requirements.txt (line 18)) (1.11.2)\n",
            "Requirement already satisfied: google-auth-oauthlib==0.4.1 in /usr/local/lib/python3.7/dist-packages (from -r DiplomaThesis/requirements.txt (line 19)) (0.4.1)\n",
            "Collecting google-pasta==0.1.8\n",
            "  Using cached google_pasta-0.1.8-py3-none-any.whl (57 kB)\n",
            "Requirement already satisfied: googleapis-common-protos==1.52.0 in /usr/local/lib/python3.7/dist-packages (from -r DiplomaThesis/requirements.txt (line 21)) (1.52.0)\n",
            "Collecting grpcio==1.27.2\n",
            "  Using cached grpcio-1.27.2-cp37-cp37m-manylinux2010_x86_64.whl (2.7 MB)\n",
            "Collecting h5py==2.10.0\n",
            "  Using cached h5py-2.10.0-cp37-cp37m-manylinux1_x86_64.whl (2.9 MB)\n",
            "Requirement already satisfied: idna==2.8 in /usr/local/lib/python3.7/dist-packages (from -r DiplomaThesis/requirements.txt (line 24)) (2.8)\n",
            "Requirement already satisfied: importlib-metadata==3.7.3 in /usr/local/lib/python3.7/dist-packages (from -r DiplomaThesis/requirements.txt (line 25)) (3.7.3)\n",
            "Requirement already satisfied: importlib-resources==3.0.0 in /usr/local/lib/python3.7/dist-packages (from -r DiplomaThesis/requirements.txt (line 26)) (3.0.0)\n",
            "Requirement already satisfied: jmespath==0.9.5 in /usr/local/lib/python3.7/dist-packages (from -r DiplomaThesis/requirements.txt (line 27)) (0.9.5)\n",
            "Requirement already satisfied: joblib==0.14.1 in /usr/local/lib/python3.7/dist-packages (from -r DiplomaThesis/requirements.txt (line 28)) (0.14.1)\n",
            "Requirement already satisfied: Keras==2.4.3 in /usr/local/lib/python3.7/dist-packages (from -r DiplomaThesis/requirements.txt (line 29)) (2.4.3)\n",
            "Requirement already satisfied: Keras-Applications==1.0.8 in /usr/local/lib/python3.7/dist-packages (from -r DiplomaThesis/requirements.txt (line 30)) (1.0.8)\n",
            "Requirement already satisfied: Keras-Preprocessing==1.1.2 in /usr/local/lib/python3.7/dist-packages (from -r DiplomaThesis/requirements.txt (line 31)) (1.1.2)\n",
            "Requirement already satisfied: kiwisolver==1.3.1 in /usr/local/lib/python3.7/dist-packages (from -r DiplomaThesis/requirements.txt (line 32)) (1.3.1)\n",
            "Requirement already satisfied: Markdown==3.2.1 in /usr/local/lib/python3.7/dist-packages (from -r DiplomaThesis/requirements.txt (line 33)) (3.2.1)\n",
            "Requirement already satisfied: matplotlib==3.3.4 in /usr/local/lib/python3.7/dist-packages (from -r DiplomaThesis/requirements.txt (line 34)) (3.3.4)\n",
            "Requirement already satisfied: nltk==3.5 in /usr/local/lib/python3.7/dist-packages (from -r DiplomaThesis/requirements.txt (line 35)) (3.5)\n",
            "Collecting numpy==1.18.1\n",
            "  Using cached numpy-1.18.1-cp37-cp37m-manylinux1_x86_64.whl (20.1 MB)\n",
            "Requirement already satisfied: oauthlib==3.1.0 in /usr/local/lib/python3.7/dist-packages (from -r DiplomaThesis/requirements.txt (line 37)) (3.1.0)\n",
            "Collecting opt-einsum==3.1.0\n",
            "  Using cached opt_einsum-3.1.0-py3-none-any.whl\n",
            "Requirement already satisfied: packaging==20.9 in /usr/local/lib/python3.7/dist-packages (from -r DiplomaThesis/requirements.txt (line 39)) (20.9)\n",
            "Requirement already satisfied: pandas==1.1.4 in /usr/local/lib/python3.7/dist-packages (from -r DiplomaThesis/requirements.txt (line 40)) (1.1.4)\n",
            "Requirement already satisfied: Pillow==8.1.0 in /usr/local/lib/python3.7/dist-packages (from -r DiplomaThesis/requirements.txt (line 41)) (8.1.0)\n",
            "Requirement already satisfied: promise==2.3 in /usr/local/lib/python3.7/dist-packages (from -r DiplomaThesis/requirements.txt (line 42)) (2.3)\n",
            "Requirement already satisfied: protobuf==3.11.3 in /usr/local/lib/python3.7/dist-packages (from -r DiplomaThesis/requirements.txt (line 43)) (3.11.3)\n",
            "Requirement already satisfied: pyasn1==0.4.8 in /usr/local/lib/python3.7/dist-packages (from -r DiplomaThesis/requirements.txt (line 44)) (0.4.8)\n",
            "Requirement already satisfied: pyasn1-modules==0.2.8 in /usr/local/lib/python3.7/dist-packages (from -r DiplomaThesis/requirements.txt (line 45)) (0.2.8)\n",
            "Requirement already satisfied: pydot==1.4.1 in /usr/local/lib/python3.7/dist-packages (from -r DiplomaThesis/requirements.txt (line 46)) (1.4.1)\n",
            "Requirement already satisfied: pyparsing==2.4.7 in /usr/local/lib/python3.7/dist-packages (from -r DiplomaThesis/requirements.txt (line 47)) (2.4.7)\n",
            "Requirement already satisfied: python-dateutil==2.8.1 in /usr/local/lib/python3.7/dist-packages (from -r DiplomaThesis/requirements.txt (line 48)) (2.8.1)\n",
            "Requirement already satisfied: pytz==2020.4 in /usr/local/lib/python3.7/dist-packages (from -r DiplomaThesis/requirements.txt (line 49)) (2020.4)\n",
            "Requirement already satisfied: PyYAML==5.3.1 in /usr/local/lib/python3.7/dist-packages (from -r DiplomaThesis/requirements.txt (line 50)) (5.3.1)\n",
            "Requirement already satisfied: regex==2020.2.20 in /usr/local/lib/python3.7/dist-packages (from -r DiplomaThesis/requirements.txt (line 51)) (2020.2.20)\n",
            "Requirement already satisfied: requests==2.22.0 in /usr/local/lib/python3.7/dist-packages (from -r DiplomaThesis/requirements.txt (line 52)) (2.22.0)\n",
            "Requirement already satisfied: requests-oauthlib==1.3.0 in /usr/local/lib/python3.7/dist-packages (from -r DiplomaThesis/requirements.txt (line 53)) (1.3.0)\n",
            "Requirement already satisfied: rsa==4.0 in /usr/local/lib/python3.7/dist-packages (from -r DiplomaThesis/requirements.txt (line 54)) (4.0)\n",
            "Requirement already satisfied: s3transfer==0.3.3 in /usr/local/lib/python3.7/dist-packages (from -r DiplomaThesis/requirements.txt (line 55)) (0.3.3)\n",
            "Requirement already satisfied: sacremoses==0.0.38 in /usr/local/lib/python3.7/dist-packages (from -r DiplomaThesis/requirements.txt (line 56)) (0.0.38)\n",
            "Requirement already satisfied: scikit-learn==0.23.2 in /usr/local/lib/python3.7/dist-packages (from -r DiplomaThesis/requirements.txt (line 57)) (0.23.2)\n",
            "Requirement already satisfied: scipy==1.4.1 in /usr/local/lib/python3.7/dist-packages (from -r DiplomaThesis/requirements.txt (line 58)) (1.4.1)\n",
            "Requirement already satisfied: sentencepiece==0.1.85 in /usr/local/lib/python3.7/dist-packages (from -r DiplomaThesis/requirements.txt (line 59)) (0.1.85)\n",
            "Collecting six==1.14.0\n",
            "  Using cached six-1.14.0-py2.py3-none-any.whl (10 kB)\n",
            "Collecting tensorboard==2.3.0\n",
            "  Using cached tensorboard-2.3.0-py3-none-any.whl (6.8 MB)\n",
            "Requirement already satisfied: tensorboard-plugin-wit==1.7.0 in /usr/local/lib/python3.7/dist-packages (from -r DiplomaThesis/requirements.txt (line 62)) (1.7.0)\n",
            "Collecting tensorflow==2.3.1\n",
            "  Using cached tensorflow-2.3.1-cp37-cp37m-manylinux2010_x86_64.whl (320.4 MB)\n",
            "Requirement already satisfied: tensorflow-addons==0.8.1 in /usr/local/lib/python3.7/dist-packages (from -r DiplomaThesis/requirements.txt (line 64)) (0.8.1)\n",
            "Requirement already satisfied: tensorflow-datasets==4.0.1 in /usr/local/lib/python3.7/dist-packages (from -r DiplomaThesis/requirements.txt (line 65)) (4.0.1)\n",
            "Collecting tensorflow-estimator==2.3.0\n",
            "  Using cached tensorflow_estimator-2.3.0-py2.py3-none-any.whl (459 kB)\n",
            "Requirement already satisfied: tensorflow-metadata==0.24.0 in /usr/local/lib/python3.7/dist-packages (from -r DiplomaThesis/requirements.txt (line 67)) (0.24.0)\n",
            "Requirement already satisfied: termcolor==1.1.0 in /usr/local/lib/python3.7/dist-packages (from -r DiplomaThesis/requirements.txt (line 68)) (1.1.0)\n",
            "Requirement already satisfied: threadpoolctl==2.1.0 in /usr/local/lib/python3.7/dist-packages (from -r DiplomaThesis/requirements.txt (line 69)) (2.1.0)\n",
            "Requirement already satisfied: tokenizers==0.10.1 in /usr/local/lib/python3.7/dist-packages (from -r DiplomaThesis/requirements.txt (line 70)) (0.10.1)\n",
            "Requirement already satisfied: tqdm==4.43.0 in /usr/local/lib/python3.7/dist-packages (from -r DiplomaThesis/requirements.txt (line 71)) (4.43.0)\n",
            "Requirement already satisfied: transformers==4.4.2 in /usr/local/lib/python3.7/dist-packages (from -r DiplomaThesis/requirements.txt (line 72)) (4.4.2)\n",
            "Requirement already satisfied: typeguard==2.7.1 in /usr/local/lib/python3.7/dist-packages (from -r DiplomaThesis/requirements.txt (line 73)) (2.7.1)\n",
            "Requirement already satisfied: typing-extensions==3.7.4.3 in /usr/local/lib/python3.7/dist-packages (from -r DiplomaThesis/requirements.txt (line 74)) (3.7.4.3)\n",
            "Requirement already satisfied: urllib3==1.25.8 in /usr/local/lib/python3.7/dist-packages (from -r DiplomaThesis/requirements.txt (line 75)) (1.25.8)\n",
            "Requirement already satisfied: Werkzeug==1.0.0 in /usr/local/lib/python3.7/dist-packages (from -r DiplomaThesis/requirements.txt (line 76)) (1.0.0)\n",
            "Collecting wrapt==1.12.0\n",
            "  Using cached wrapt-1.12.0-cp37-cp37m-linux_x86_64.whl\n",
            "Requirement already satisfied: zipp==3.3.1 in /usr/local/lib/python3.7/dist-packages (from -r DiplomaThesis/requirements.txt (line 78)) (3.3.1)\n",
            "Requirement already satisfied: wheel<1.0,>=0.23.0 in /usr/local/lib/python3.7/dist-packages (from astunparse==1.6.3->-r DiplomaThesis/requirements.txt (line 3)) (0.36.2)\n",
            "Requirement already satisfied: setuptools>=40.3.0 in /usr/local/lib/python3.7/dist-packages (from google-auth==1.11.2->-r DiplomaThesis/requirements.txt (line 18)) (57.2.0)\n",
            "Installing collected packages: six, numpy, grpcio, absl-py, wrapt, tensorflow-estimator, tensorboard, opt-einsum, h5py, google-pasta, gast, tensorflow\n",
            "  Attempting uninstall: six\n",
            "    Found existing installation: six 1.15.0\n",
            "    Uninstalling six-1.15.0:\n",
            "      Successfully uninstalled six-1.15.0\n",
            "  Attempting uninstall: numpy\n",
            "    Found existing installation: numpy 1.19.5\n",
            "    Uninstalling numpy-1.19.5:\n",
            "      Successfully uninstalled numpy-1.19.5\n",
            "  Attempting uninstall: grpcio\n",
            "    Found existing installation: grpcio 1.34.1\n",
            "    Uninstalling grpcio-1.34.1:\n",
            "      Successfully uninstalled grpcio-1.34.1\n",
            "  Attempting uninstall: absl-py\n",
            "    Found existing installation: absl-py 0.13.0\n",
            "    Uninstalling absl-py-0.13.0:\n",
            "      Successfully uninstalled absl-py-0.13.0\n",
            "  Attempting uninstall: wrapt\n",
            "    Found existing installation: wrapt 1.12.1\n",
            "    Uninstalling wrapt-1.12.1:\n",
            "      Successfully uninstalled wrapt-1.12.1\n",
            "  Attempting uninstall: tensorflow-estimator\n",
            "    Found existing installation: tensorflow-estimator 2.5.0\n",
            "    Uninstalling tensorflow-estimator-2.5.0:\n",
            "      Successfully uninstalled tensorflow-estimator-2.5.0\n",
            "  Attempting uninstall: tensorboard\n",
            "    Found existing installation: tensorboard 2.5.0\n",
            "    Uninstalling tensorboard-2.5.0:\n",
            "      Successfully uninstalled tensorboard-2.5.0\n",
            "  Attempting uninstall: opt-einsum\n",
            "    Found existing installation: opt-einsum 3.3.0\n",
            "    Uninstalling opt-einsum-3.3.0:\n",
            "      Successfully uninstalled opt-einsum-3.3.0\n",
            "  Attempting uninstall: h5py\n",
            "    Found existing installation: h5py 3.1.0\n",
            "    Uninstalling h5py-3.1.0:\n",
            "      Successfully uninstalled h5py-3.1.0\n",
            "  Attempting uninstall: google-pasta\n",
            "    Found existing installation: google-pasta 0.2.0\n",
            "    Uninstalling google-pasta-0.2.0:\n",
            "      Successfully uninstalled google-pasta-0.2.0\n",
            "  Attempting uninstall: gast\n",
            "    Found existing installation: gast 0.4.0\n",
            "    Uninstalling gast-0.4.0:\n",
            "      Successfully uninstalled gast-0.4.0\n",
            "  Attempting uninstall: tensorflow\n",
            "    Found existing installation: tensorflow 2.5.0\n",
            "    Uninstalling tensorflow-2.5.0:\n",
            "      Successfully uninstalled tensorflow-2.5.0\n",
            "\u001b[31mERROR: pip's dependency resolver does not currently take into account all the packages that are installed. This behaviour is the source of the following dependency conflicts.\n",
            "tensorflow-gpu 2.5.0 requires absl-py~=0.10, but you have absl-py 0.9.0 which is incompatible.\n",
            "tensorflow-gpu 2.5.0 requires gast==0.4.0, but you have gast 0.3.3 which is incompatible.\n",
            "tensorflow-gpu 2.5.0 requires google-pasta~=0.2, but you have google-pasta 0.1.8 which is incompatible.\n",
            "tensorflow-gpu 2.5.0 requires grpcio~=1.34.0, but you have grpcio 1.27.2 which is incompatible.\n",
            "tensorflow-gpu 2.5.0 requires h5py~=3.1.0, but you have h5py 2.10.0 which is incompatible.\n",
            "tensorflow-gpu 2.5.0 requires numpy~=1.19.2, but you have numpy 1.18.1 which is incompatible.\n",
            "tensorflow-gpu 2.5.0 requires opt-einsum~=3.3.0, but you have opt-einsum 3.1.0 which is incompatible.\n",
            "tensorflow-gpu 2.5.0 requires six~=1.15.0, but you have six 1.14.0 which is incompatible.\n",
            "tensorflow-gpu 2.5.0 requires tensorboard~=2.5, but you have tensorboard 2.3.0 which is incompatible.\n",
            "tensorflow-gpu 2.5.0 requires tensorflow-estimator<2.6.0,>=2.5.0rc0, but you have tensorflow-estimator 2.3.0 which is incompatible.\n",
            "tensorflow-gpu 2.5.0 requires wrapt~=1.12.1, but you have wrapt 1.12.0 which is incompatible.\n",
            "pymc3 3.11.2 requires cachetools>=4.2.1, but you have cachetools 4.0.0 which is incompatible.\n",
            "kapre 0.3.5 requires numpy>=1.18.5, but you have numpy 1.18.1 which is incompatible.\n",
            "google-colab 1.0.0 requires google-auth>=1.17.2, but you have google-auth 1.11.2 which is incompatible.\n",
            "google-colab 1.0.0 requires requests~=2.23.0, but you have requests 2.22.0 which is incompatible.\n",
            "google-colab 1.0.0 requires six~=1.15.0, but you have six 1.14.0 which is incompatible.\n",
            "google-api-python-client 1.12.8 requires google-auth>=1.16.0, but you have google-auth 1.11.2 which is incompatible.\n",
            "google-api-core 1.26.3 requires google-auth<2.0dev,>=1.21.1, but you have google-auth 1.11.2 which is incompatible.\n",
            "google-api-core 1.26.3 requires protobuf>=3.12.0, but you have protobuf 3.11.3 which is incompatible.\n",
            "datascience 0.10.6 requires folium==0.2.1, but you have folium 0.8.3 which is incompatible.\n",
            "albumentations 0.1.12 requires imgaug<0.2.7,>=0.2.5, but you have imgaug 0.2.9 which is incompatible.\u001b[0m\n",
            "Successfully installed absl-py-0.9.0 gast-0.3.3 google-pasta-0.1.8 grpcio-1.27.2 h5py-2.10.0 numpy-1.18.1 opt-einsum-3.1.0 six-1.14.0 tensorboard-2.3.0 tensorflow-2.3.1 tensorflow-estimator-2.3.0 wrapt-1.12.0\n"
          ],
          "name": "stdout"
        },
        {
          "output_type": "display_data",
          "data": {
            "application/vnd.colab-display-data+json": {
              "pip_warning": {
                "packages": [
                  "numpy",
                  "six"
                ]
              }
            }
          },
          "metadata": {
            "tags": []
          }
        }
      ]
    },
    {
      "cell_type": "code",
      "metadata": {
        "colab": {
          "base_uri": "https://localhost:8080/"
        },
        "id": "vHj1DmVIz-ke",
        "outputId": "d2814ed8-e13f-4c56-beaf-e08b9efc57ee"
      },
      "source": [
        "!mkdir /content/DiplomaThesis/code/morphodita-research/models\n",
        "!mkdir /content/DiplomaThesis/code/morphodita-research/models/tl_18\n",
        "!wget --no-check-certificate aic.ufal.mff.cuni.cz/~doubrap1/mappings.pickle\n",
        "!cp /content/mappings.pickle /content/DiplomaThesis/code/morphodita-research/models/tl_18/mappings.pickle\n",
        "!rm /content/mappings.pickle"
      ],
      "execution_count": null,
      "outputs": [
        {
          "output_type": "stream",
          "text": [
            "mkdir: cannot create directory ‘/content/DiplomaThesis/code/morphodita-research/models’: File exists\n",
            "mkdir: cannot create directory ‘/content/DiplomaThesis/code/morphodita-research/models/tl_18’: File exists\n",
            "--2021-07-26 15:02:25--  http://aic.ufal.mff.cuni.cz/~doubrap1/mappings.pickle\n",
            "Resolving aic.ufal.mff.cuni.cz (aic.ufal.mff.cuni.cz)... 195.113.21.4\n",
            "Connecting to aic.ufal.mff.cuni.cz (aic.ufal.mff.cuni.cz)|195.113.21.4|:80... connected.\n",
            "HTTP request sent, awaiting response... 302 Found\n",
            "Location: https://aic.ufal.mff.cuni.cz//~doubrap1/mappings.pickle [following]\n",
            "--2021-07-26 15:02:26--  https://aic.ufal.mff.cuni.cz//~doubrap1/mappings.pickle\n",
            "Connecting to aic.ufal.mff.cuni.cz (aic.ufal.mff.cuni.cz)|195.113.21.4|:443... connected.\n",
            "WARNING: cannot verify aic.ufal.mff.cuni.cz's certificate, issued by ‘CN=GEANT OV RSA CA 4,O=GEANT Vereniging,C=NL’:\n",
            "  Unable to locally verify the issuer's authority.\n",
            "HTTP request sent, awaiting response... 200 OK\n",
            "Length: 42789938 (41M)\n",
            "Saving to: ‘mappings.pickle’\n",
            "\n",
            "mappings.pickle     100%[===================>]  40.81M  15.8MB/s    in 2.6s    \n",
            "\n",
            "2021-07-26 15:02:29 (15.8 MB/s) - ‘mappings.pickle’ saved [42789938/42789938]\n",
            "\n"
          ],
          "name": "stdout"
        }
      ]
    },
    {
      "cell_type": "code",
      "metadata": {
        "colab": {
          "base_uri": "https://localhost:8080/"
        },
        "id": "I9Ab2KZuK356",
        "outputId": "763adcaf-0b65-4457-a9e8-d565c4dd2814"
      },
      "source": [
        "!wget --no-check-certificate aic.ufal.mff.cuni.cz/~doubrap1/ch18.index\n",
        "!cp /content/ch18.index /content/DiplomaThesis/code/morphodita-research/models/ch18.index\n",
        "!rm /content/ch18.index\n",
        "\n",
        "!wget --no-check-certificate aic.ufal.mff.cuni.cz/~doubrap1/ch18.data-00000-of-00001\n",
        "!cp /content/ch18.data-00000-of-00001 /content/DiplomaThesis/code/morphodita-research/models/ch18.data-00000-of-00001\n",
        "!rm /content/ch18.data-00000-of-00001\n",
        "\n"
      ],
      "execution_count": null,
      "outputs": [
        {
          "output_type": "stream",
          "text": [
            "--2021-07-26 15:02:29--  http://aic.ufal.mff.cuni.cz/~doubrap1/ch18.index\n",
            "Resolving aic.ufal.mff.cuni.cz (aic.ufal.mff.cuni.cz)... 195.113.21.4\n",
            "Connecting to aic.ufal.mff.cuni.cz (aic.ufal.mff.cuni.cz)|195.113.21.4|:80... connected.\n",
            "HTTP request sent, awaiting response... 302 Found\n",
            "Location: https://aic.ufal.mff.cuni.cz//~doubrap1/ch18.index [following]\n",
            "--2021-07-26 15:02:29--  https://aic.ufal.mff.cuni.cz//~doubrap1/ch18.index\n",
            "Connecting to aic.ufal.mff.cuni.cz (aic.ufal.mff.cuni.cz)|195.113.21.4|:443... connected.\n",
            "WARNING: cannot verify aic.ufal.mff.cuni.cz's certificate, issued by ‘CN=GEANT OV RSA CA 4,O=GEANT Vereniging,C=NL’:\n",
            "  Unable to locally verify the issuer's authority.\n",
            "HTTP request sent, awaiting response... 200 OK\n",
            "Length: 17194 (17K)\n",
            "Saving to: ‘ch18.index’\n",
            "\n",
            "ch18.index          100%[===================>]  16.79K  --.-KB/s    in 0.1s    \n",
            "\n",
            "2021-07-26 15:02:30 (161 KB/s) - ‘ch18.index’ saved [17194/17194]\n",
            "\n",
            "--2021-07-26 15:02:30--  http://aic.ufal.mff.cuni.cz/~doubrap1/ch18.data-00000-of-00001\n",
            "Resolving aic.ufal.mff.cuni.cz (aic.ufal.mff.cuni.cz)... 195.113.21.4\n",
            "Connecting to aic.ufal.mff.cuni.cz (aic.ufal.mff.cuni.cz)|195.113.21.4|:80... connected.\n",
            "HTTP request sent, awaiting response... 302 Found\n",
            "Location: https://aic.ufal.mff.cuni.cz//~doubrap1/ch18.data-00000-of-00001 [following]\n",
            "--2021-07-26 15:02:30--  https://aic.ufal.mff.cuni.cz//~doubrap1/ch18.data-00000-of-00001\n",
            "Connecting to aic.ufal.mff.cuni.cz (aic.ufal.mff.cuni.cz)|195.113.21.4|:443... connected.\n",
            "WARNING: cannot verify aic.ufal.mff.cuni.cz's certificate, issued by ‘CN=GEANT OV RSA CA 4,O=GEANT Vereniging,C=NL’:\n",
            "  Unable to locally verify the issuer's authority.\n",
            "HTTP request sent, awaiting response... 200 OK\n",
            "Length: 888656275 (847M)\n",
            "Saving to: ‘ch18.data-00000-of-00001’\n",
            "\n",
            "ch18.data-00000-of- 100%[===================>] 847.49M  27.0MB/s    in 35s     \n",
            "\n",
            "2021-07-26 15:03:06 (24.1 MB/s) - ‘ch18.data-00000-of-00001’ saved [888656275/888656275]\n",
            "\n"
          ],
          "name": "stdout"
        }
      ]
    },
    {
      "cell_type": "code",
      "metadata": {
        "colab": {
          "base_uri": "https://localhost:8080/"
        },
        "id": "pa5hwEmfMC_q",
        "outputId": "8a8696ff-0d2a-400c-9f6e-5be77fd88940"
      },
      "source": [
        "!wget --no-check-certificate aic.ufal.mff.cuni.cz/~doubrap1/forms.vectors-w5-d300-ns5.16b.npz"
      ],
      "execution_count": null,
      "outputs": [
        {
          "output_type": "stream",
          "text": [
            "--2021-07-26 15:03:10--  http://aic.ufal.mff.cuni.cz/~doubrap1/forms.vectors-w5-d300-ns5.16b.npz\n",
            "Resolving aic.ufal.mff.cuni.cz (aic.ufal.mff.cuni.cz)... 195.113.21.4\n",
            "Connecting to aic.ufal.mff.cuni.cz (aic.ufal.mff.cuni.cz)|195.113.21.4|:80... connected.\n",
            "HTTP request sent, awaiting response... 302 Found\n",
            "Location: https://aic.ufal.mff.cuni.cz//~doubrap1/forms.vectors-w5-d300-ns5.16b.npz [following]\n",
            "--2021-07-26 15:03:11--  https://aic.ufal.mff.cuni.cz//~doubrap1/forms.vectors-w5-d300-ns5.16b.npz\n",
            "Connecting to aic.ufal.mff.cuni.cz (aic.ufal.mff.cuni.cz)|195.113.21.4|:443... connected.\n",
            "WARNING: cannot verify aic.ufal.mff.cuni.cz's certificate, issued by ‘CN=GEANT OV RSA CA 4,O=GEANT Vereniging,C=NL’:\n",
            "  Unable to locally verify the issuer's authority.\n",
            "HTTP request sent, awaiting response... 200 OK\n",
            "Length: 891609378 (850M)\n",
            "Saving to: ‘forms.vectors-w5-d300-ns5.16b.npz.1’\n",
            "\n",
            "forms.vectors-w5-d3 100%[===================>] 850.30M  26.4MB/s    in 33s     \n",
            "\n",
            "2021-07-26 15:03:44 (25.8 MB/s) - ‘forms.vectors-w5-d300-ns5.16b.npz.1’ saved [891609378/891609378]\n",
            "\n"
          ],
          "name": "stdout"
        }
      ]
    },
    {
      "cell_type": "markdown",
      "metadata": {
        "id": "Wq685N8tZR8y"
      },
      "source": [
        "# Creating model and input data"
      ]
    },
    {
      "cell_type": "code",
      "metadata": {
        "id": "_loWe77oLMVC"
      },
      "source": [
        "import sys\n",
        "sys.path.append(\"DiplomaThesis/code/morphodita-research\")\n",
        "import tensorflow as tf\n",
        "import morpho_tagger_2 as mt"
      ],
      "execution_count": null,
      "outputs": []
    },
    {
      "cell_type": "code",
      "metadata": {
        "id": "umC6UsT_YUbJ"
      },
      "source": [
        "import ufal.morphodita"
      ],
      "execution_count": null,
      "outputs": []
    },
    {
      "cell_type": "code",
      "metadata": {
        "id": "hLHQFnVt0BvS"
      },
      "source": [
        "import os\n",
        "os.chdir(\"DiplomaThesis/code/morphodita-research\")"
      ],
      "execution_count": null,
      "outputs": []
    },
    {
      "cell_type": "code",
      "metadata": {
        "id": "MCeEeu1PYaT0"
      },
      "source": [
        "def tokenize_to_vertical(text):\n",
        "    tokenizer = ufal.morphodita.Tokenizer.newCzechTokenizer()\n",
        "    forms = ufal.morphodita.Forms()\n",
        "    f = open('vstup', 'w')\n",
        "\n",
        "    tokenizer.setText(text)\n",
        "    while tokenizer.nextSentence(forms, None):\n",
        "        for form in forms:\n",
        "            print(form, \"_\", \"_\", sep=\"\\t\", file=f)\n",
        "        print(file=f)\n",
        "    f.close()"
      ],
      "execution_count": null,
      "outputs": []
    },
    {
      "cell_type": "markdown",
      "metadata": {
        "id": "_LuJOilWZcsO"
      },
      "source": [
        "-------------------------------------------\n",
        "Insert input:"
      ]
    },
    {
      "cell_type": "code",
      "metadata": {
        "id": "Ej_NzOSnNgk6"
      },
      "source": [
        "vstup = \"Dnes byl krásný den.\""
      ],
      "execution_count": null,
      "outputs": []
    },
    {
      "cell_type": "markdown",
      "metadata": {
        "id": "j6g6swEwZYmm"
      },
      "source": [
        "---------------------------------------"
      ]
    },
    {
      "cell_type": "code",
      "metadata": {
        "id": "QoH_lGDcPlPm",
        "colab": {
          "base_uri": "https://localhost:8080/",
          "height": 698,
          "referenced_widgets": [
            "3300439a28e34b2e8ba6cd9786e2b7b0",
            "4aa310c93f8347e1b7d563d1aec97873",
            "e463bcf6fffa457ea0c9f01775b11923",
            "1538c8d411394847a35364101b24603e",
            "dd9e541df6034fbc9d8723924c65683f",
            "1ec923740bf04877bb6decae58cae1bf",
            "ee7ee701c1134be1ac93ef246cd99d12",
            "a224bc0a108142c99268cf554459fdd3"
          ]
        },
        "outputId": "7fcebe50-3baa-4e21-deb8-2a8f6f75ad58"
      },
      "source": [
        "tokenize_to_vertical(vstup)\n",
        "mt.main([\"./vstup\", \"--checkp\", \"ch18\", \"--embeddings\", \"/content/forms.vectors-w5-d300-ns5.16b.npz\",\"--exp\", \"tl_18\", \"--warmup_decay\", \"c:1\", \"--label_smoothing\", \"0.03\", \"--bert_model\", \"ufal/robeczech-base\", \"--epochs\", \"60:1e-3\", \"--predict\", '/content/DiplomaThesis/code/morphodita-research/models/ch18'])"
      ],
      "execution_count": null,
      "outputs": [
        {
          "output_type": "stream",
          "text": [
            "decay is not none\n",
            "c:1\n",
            "před parsovanim\n",
            "ufal/robeczech-base\n",
            "None\n",
            "again\n",
            "None\n"
          ],
          "name": "stdout"
        },
        {
          "output_type": "display_data",
          "data": {
            "application/vnd.jupyter.widget-view+json": {
              "model_id": "3300439a28e34b2e8ba6cd9786e2b7b0",
              "version_minor": 0,
              "version_major": 2
            },
            "text/plain": [
              "HBox(children=(FloatProgress(value=0.0, description='Downloading', max=667860748.0, style=ProgressStyle(descri…"
            ]
          },
          "metadata": {
            "tags": []
          }
        },
        {
          "output_type": "stream",
          "text": [
            "\n"
          ],
          "name": "stdout"
        },
        {
          "output_type": "stream",
          "text": [
            "Some layers from the model checkpoint at ufal/robeczech-base were not used when initializing TFRobertaModel: ['lm_head']\n",
            "- This IS expected if you are initializing TFRobertaModel from the checkpoint of a model trained on another task or with another architecture (e.g. initializing a BertForSequenceClassification model from a BertForPreTraining model).\n",
            "- This IS NOT expected if you are initializing TFRobertaModel from the checkpoint of a model that you expect to be exactly identical (initializing a BertForSequenceClassification model from a BertForSequenceClassification model).\n",
            "All the layers of TFRobertaModel were initialized from the model checkpoint at ufal/robeczech-base.\n",
            "If your task is similar to the task the model of the checkpoint was trained on, you can already use TFRobertaModel for predictions without further training.\n"
          ],
          "name": "stderr"
        },
        {
          "output_type": "stream",
          "text": [
            "WARNING:tensorflow:The parameters `output_attentions`, `output_hidden_states` and `use_cache` cannot be updated when calling a model.They have to be set to True/False in the config object (i.e.: `config=XConfig.from_pretrained('name', output_attentions=True)`).\n",
            "WARNING:tensorflow:AutoGraph could not transform <bound method Socket.send of <zmq.sugar.socket.Socket object at 0x7f4e86de9050>> and will run it as-is.\n",
            "Please report this to the TensorFlow team. When filing the bug, set the verbosity to 10 (on Linux, `export AUTOGRAPH_VERBOSITY=10`) and attach the full output.\n",
            "Cause: module, class, method, function, traceback, frame, or code object was expected, got cython_function_or_method\n",
            "To silence this warning, decorate the function with @tf.autograph.experimental.do_not_convert\n",
            "WARNING: AutoGraph could not transform <bound method Socket.send of <zmq.sugar.socket.Socket object at 0x7f4e86de9050>> and will run it as-is.\n",
            "Please report this to the TensorFlow team. When filing the bug, set the verbosity to 10 (on Linux, `export AUTOGRAPH_VERBOSITY=10`) and attach the full output.\n",
            "Cause: module, class, method, function, traceback, frame, or code object was expected, got cython_function_or_method\n",
            "To silence this warning, decorate the function with @tf.autograph.experimental.do_not_convert\n",
            "WARNING:tensorflow:AutoGraph could not transform <function wrap at 0x7f4e9c7cc050> and will run it as-is.\n",
            "Cause: while/else statement not yet supported\n",
            "To silence this warning, decorate the function with @tf.autograph.experimental.do_not_convert\n",
            "WARNING: AutoGraph could not transform <function wrap at 0x7f4e9c7cc050> and will run it as-is.\n",
            "Cause: while/else statement not yet supported\n",
            "To silence this warning, decorate the function with @tf.autograph.experimental.do_not_convert\n",
            "WARNING:tensorflow:The parameter `return_dict` cannot be set in graph mode and will always be set to `True`.\n",
            "WARNING:tensorflow:From /usr/local/lib/python3.7/dist-packages/tensorflow/python/util/deprecation.py:574: calling map_fn_v2 (from tensorflow.python.ops.map_fn) with dtype is deprecated and will be removed in a future version.\n",
            "Instructions for updating:\n",
            "Use fn_output_signature instead\n",
            "model len: 5\n",
            "WARNING:tensorflow:The parameters `output_attentions`, `output_hidden_states` and `use_cache` cannot be updated when calling a model.They have to be set to True/False in the config object (i.e.: `config=XConfig.from_pretrained('name', output_attentions=True)`).\n",
            "WARNING:tensorflow:The parameter `return_dict` cannot be set in graph mode and will always be set to `True`.\n",
            "delka vet\n",
            "1\n"
          ],
          "name": "stdout"
        }
      ]
    },
    {
      "cell_type": "code",
      "metadata": {
        "id": "uA9j6IwkZ0pH",
        "colab": {
          "base_uri": "https://localhost:8080/"
        },
        "outputId": "1231da70-4de9-406c-e616-8c817b8b7867"
      },
      "source": [
        "!cat tl_18_vystup"
      ],
      "execution_count": null,
      "outputs": [
        {
          "output_type": "stream",
          "text": [
            "Dnes\tdnes\tDb-------------\n",
            "byl\tbýt\tVpYS---XR-AA---\n",
            "krásný\tkrásný\tAAIS1----1A----\n",
            "den\tden\tNNIS1-----A----\n",
            ".\t.\tZ:-------------\n",
            "\n"
          ],
          "name": "stdout"
        }
      ]
    }
  ]
}